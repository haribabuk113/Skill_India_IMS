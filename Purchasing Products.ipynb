{
 "cells": [
  {
   "cell_type": "markdown",
   "id": "e562c7d0",
   "metadata": {},
   "source": [
    "# Read Inventory"
   ]
  },
  {
   "cell_type": "code",
   "execution_count": 7,
   "id": "ae073cc0",
   "metadata": {},
   "outputs": [],
   "source": [
    "import json\n",
    "\n",
    "fd = open(\"record.json\",'r')\n",
    "r = fd.read()\n",
    "fd.close()\n",
    "\n",
    "records = json.loads(r)"
   ]
  },
  {
   "cell_type": "code",
   "execution_count": 8,
   "id": "c34e3ffa",
   "metadata": {},
   "outputs": [
    {
     "data": {
      "text/plain": [
       "{'1': {'Name': 'Ghee',\n",
       "  'Color': 'Yellow',\n",
       "  'Brand': 'Diary',\n",
       "  'Price': 50,\n",
       "  'Weight': 100,\n",
       "  'Quantity': 100},\n",
       " '2': {'Name': 'Wheat',\n",
       "  'Color': 'White',\n",
       "  'Brand': 'Asarvad',\n",
       "  'Price': 67,\n",
       "  'Weight': 200,\n",
       "  'Quantity': 100},\n",
       " '3': {'Name': 'Rice',\n",
       "  'Color': 'White',\n",
       "  'Brand': 'Fast',\n",
       "  'Price': 120,\n",
       "  'Weight': 230,\n",
       "  'Quantity': 100},\n",
       " '4': {'Name': 'Biscuit',\n",
       "  'Color': 'Brown',\n",
       "  'Brand': 'Britania',\n",
       "  'Price': 20,\n",
       "  'Weight': 230,\n",
       "  'Quantity': 100},\n",
       " '5': {'Name': 'Milk',\n",
       "  'Color': 'White',\n",
       "  'Brand': 'Diary',\n",
       "  'Price': 25,\n",
       "  'Weight': 10,\n",
       "  'Quantity': 100},\n",
       " '6': {'Name': 'Egg',\n",
       "  'Color': 'White',\n",
       "  'Brand': 'Grow',\n",
       "  'Price': 15,\n",
       "  'Weight': 230,\n",
       "  'Quantity': 100},\n",
       " '7': {'Name': 'Chocolate',\n",
       "  'Color': 'Black',\n",
       "  'Brand': 'Dairy',\n",
       "  'Price': 235,\n",
       "  'Weight': 230,\n",
       "  'Quantity': 100},\n",
       " '8': {'Name': 'Drink',\n",
       "  'Color': 'Green',\n",
       "  'Brand': 'Pepsi',\n",
       "  'Price': 200,\n",
       "  'Weight': 230,\n",
       "  'Quantity': 100},\n",
       " '9': {'Name': 'Jaggery',\n",
       "  'Color': 'Brown',\n",
       "  'Brand': 'Sweet',\n",
       "  'Price': 50,\n",
       "  'Weight': 20,\n",
       "  'Quantity': 100},\n",
       " '10': {'Name': 'Salt',\n",
       "  'Color': 'White',\n",
       "  'Brand': 'Indian',\n",
       "  'Price': 20,\n",
       "  'Weight': 20,\n",
       "  'Quantity': 100},\n",
       " '11': {'Name': 'Sugar',\n",
       "  'Color': 'White',\n",
       "  'Brand': 'Indian',\n",
       "  'Price': 10,\n",
       "  'Weight': 20,\n",
       "  'Quantity': 100},\n",
       " '12': {'Name': 'Noodles',\n",
       "  'Color': 'White',\n",
       "  'Brand': 'Dragon',\n",
       "  'Price': 30,\n",
       "  'Weight': 20,\n",
       "  'Quantity': 100},\n",
       " '13': {'Name': 'Jam',\n",
       "  'Color': 'Red',\n",
       "  'Brand': 'Kissan',\n",
       "  'Price': 50,\n",
       "  'Weight': 60,\n",
       "  'Quantity': 100},\n",
       " '14': {'Name': 'Honey',\n",
       "  'Color': 'Red',\n",
       "  'Brand': 'Kissan',\n",
       "  'Price': 10,\n",
       "  'Weight': 10,\n",
       "  'Quantity': 100},\n",
       " '15': {'Name': 'Tea',\n",
       "  'Color': 'Brown',\n",
       "  'Brand': 'Kashmir',\n",
       "  'Price': 20,\n",
       "  'Weight': 50,\n",
       "  'Quantity': 100},\n",
       " '16': {'Name': 'Coffee',\n",
       "  'Color': 'Brown',\n",
       "  'Brand': 'Kashmir',\n",
       "  'Price': 20,\n",
       "  'Weight': 50,\n",
       "  'Quantity': 100},\n",
       " '17': {'Name': 'Ketchup',\n",
       "  'Color': 'Red',\n",
       "  'Brand': 'Red',\n",
       "  'Price': 10,\n",
       "  'Weight': 40,\n",
       "  'Quantity': 100},\n",
       " '18': {'Name': 'Pickle',\n",
       "  'Color': 'Red',\n",
       "  'Brand': 'Red',\n",
       "  'Price': 50,\n",
       "  'Weight': 30,\n",
       "  'Quantity': 100},\n",
       " '19': {'Name': 'Shampoo',\n",
       "  'Color': 'Blue',\n",
       "  'Brand': 'Honey',\n",
       "  'Price': 60,\n",
       "  'Weight': 40,\n",
       "  'Quantity': 100},\n",
       " '20': {'Name': 'Brush',\n",
       "  'Color': 'Blue',\n",
       "  'Brand': 'Colgate',\n",
       "  'Price': 40,\n",
       "  'Weight': 50,\n",
       "  'Quantity': 100},\n",
       " '21': {'Name': 'Toothpaste',\n",
       "  'Color': 'White',\n",
       "  'Brand': 'Colgate',\n",
       "  'Price': 50,\n",
       "  'Weight': 10,\n",
       "  'Quantity': 100},\n",
       " '22': {'Name': 'Shirt',\n",
       "  'Color': 'Orange',\n",
       "  'Brand': 'Nike',\n",
       "  'Price': 50,\n",
       "  'Weight': 40,\n",
       "  'Quantity': 100},\n",
       " '23': {'Name': 'Soap',\n",
       "  'Color': 'Yellow',\n",
       "  'Brand': 'Cool',\n",
       "  'Price': 20,\n",
       "  'Weight': 50,\n",
       "  'Quantity': 100},\n",
       " '24': {'Name': 'T-Shirt',\n",
       "  'Color': 'Blue',\n",
       "  'Brand': 'Nike',\n",
       "  'Price': 10,\n",
       "  'Weight': 10,\n",
       "  'Quantity': 100},\n",
       " '25': {'Name': 'Jean',\n",
       "  'Color': 'Blue',\n",
       "  'Brand': 'Adidas',\n",
       "  'Price': 40,\n",
       "  'Weight': 80,\n",
       "  'Quantity': 100},\n",
       " '26': {'Name': 'Trouser',\n",
       "  'Color': 'Grey',\n",
       "  'Brand': 'Nile',\n",
       "  'Price': 20,\n",
       "  'Weight': 50,\n",
       "  'Quantity': 100},\n",
       " '27': {'Name': 'Shoe',\n",
       "  'Color': 'Black',\n",
       "  'Brand': 'West',\n",
       "  'Price': 20,\n",
       "  'Weight': 90,\n",
       "  'Quantity': 100},\n",
       " '28': {'Name': 'Belt',\n",
       "  'Color': 'Black',\n",
       "  'Brand': 'Gucci',\n",
       "  'Price': 40,\n",
       "  'Weight': 40,\n",
       "  'Quantity': 100},\n",
       " '29': {'Name': 'Running Shoe',\n",
       "  'Color': 'Brown',\n",
       "  'Brand': 'Nike',\n",
       "  'Price': 60,\n",
       "  'Weight': 50,\n",
       "  'Quantity': 100},\n",
       " '30': {'Name': 'Repellent',\n",
       "  'Color': 'Violet',\n",
       "  'Brand': 'Dark',\n",
       "  'Price': 30,\n",
       "  'Weight': 30,\n",
       "  'Quantity': 100},\n",
       " '31': {'Name': 'Mobile',\n",
       "  'Color': 'Black',\n",
       "  'Brand': 'Vivo',\n",
       "  'Price': 500,\n",
       "  'Weight': 200}}"
      ]
     },
     "execution_count": 8,
     "metadata": {},
     "output_type": "execute_result"
    }
   ],
   "source": [
    "records"
   ]
  },
  {
   "cell_type": "markdown",
   "id": "0374ee1b",
   "metadata": {},
   "source": [
    "# Purchase"
   ]
  },
  {
   "cell_type": "code",
   "execution_count": 10,
   "id": "c0a73639",
   "metadata": {},
   "outputs": [
    {
     "name": "stdout",
     "output_type": "stream",
     "text": [
      "Enter the Product ID: 2\n",
      "Enter the Quantity: 3\n",
      "Product:  Wheat\n",
      "Color:  White\n",
      "Brand:  Asarvad\n",
      "Price:  67\n",
      "Weight:  200\n",
      "Billing Amount:  201\n"
     ]
    }
   ],
   "source": [
    "ui_prod  = str(input(\"Enter the Product ID: \"))\n",
    "ui_quant = int(input(\"Enter the Quantity: \"))\n",
    "\n",
    "\n",
    "print(\"Product: \", records[ui_prod]['Name'])\n",
    "print(\"Color: \", records[ui_prod]['Color'])\n",
    "print(\"Brand: \", records[ui_prod]['Brand'])\n",
    "print(\"Price: \", records[ui_prod]['Price'])\n",
    "print(\"Weight: \", records[ui_prod]['Weight'])\n",
    "print(\"Billing Amount: \", records[ui_prod]['Price'] * ui_quant)\n",
    "\n",
    "records[ui_prod]['Quantity'] = records[ui_prod]['Quantity'] - ui_quant"
   ]
  },
  {
   "cell_type": "markdown",
   "id": "785a8f16",
   "metadata": {},
   "source": [
    "# Update Inventory after purchase"
   ]
  },
  {
   "cell_type": "code",
   "execution_count": 11,
   "id": "0213c829",
   "metadata": {},
   "outputs": [],
   "source": [
    "js = json.dumps(records)\n",
    "\n",
    "fd = open(\"record.json\",'w')\n",
    "fd.write(js)\n",
    "fd.close()"
   ]
  },
  {
   "cell_type": "markdown",
   "id": "66326d1e",
   "metadata": {},
   "source": [
    "# Sales JSON File"
   ]
  },
  {
   "cell_type": "code",
   "execution_count": 13,
   "id": "e248987f",
   "metadata": {},
   "outputs": [
    {
     "data": {
      "text/plain": [
       "{'Product': '2', 'Quantity': 3, 'Amount': 201}"
      ]
     },
     "execution_count": 13,
     "metadata": {},
     "output_type": "execute_result"
    }
   ],
   "source": [
    "{'Product' : ui_prod, 'Quantity' : ui_quant, 'Amount': records[ui_prod]['Price'] * ui_quant}"
   ]
  },
  {
   "cell_type": "code",
   "execution_count": 17,
   "id": "db622e1f",
   "metadata": {},
   "outputs": [],
   "source": [
    "sales = {100 : {'Product' : ui_prod, 'Quantity' : ui_quant, 'Amount': records[ui_prod]['Price'] * ui_quant},\n",
    "         101 : {'Product' : ui_prod, 'Quantity' : ui_quant, 'Amount': records[ui_prod]['Price'] * ui_quant},\n",
    "         102 : {'Product' : ui_prod, 'Quantity' : ui_quant, 'Amount': records[ui_prod]['Price'] * ui_quant},\n",
    "         103 : {'Product' : ui_prod, 'Quantity' : ui_quant, 'Amount': records[ui_prod]['Price'] * ui_quant},\n",
    "         104 : {'Product' : ui_prod, 'Quantity' : ui_quant, 'Amount': records[ui_prod]['Price'] * ui_quant},\n",
    "         105 : {'Product' : ui_prod, 'Quantity' : ui_quant, 'Amount': records[ui_prod]['Price'] * ui_quant},\n",
    "         106 : {'Product' : ui_prod, 'Quantity' : ui_quant, 'Amount': records[ui_prod]['Price'] * ui_quant},\n",
    "         107 : {'Product' : ui_prod, 'Quantity' : ui_quant, 'Amount': records[ui_prod]['Price'] * ui_quant},\n",
    "         108 : {'Product' : ui_prod, 'Quantity' : ui_quant, 'Amount': records[ui_prod]['Price'] * ui_quant},\n",
    "         109 : {'Product' : ui_prod, 'Quantity' : ui_quant, 'Amount': records[ui_prod]['Price'] * ui_quant},\n",
    "         110 : {'Product' : ui_prod, 'Quantity' : ui_quant, 'Amount': records[ui_prod]['Price'] * ui_quant},\n",
    "         111 : {'Product' : ui_prod, 'Quantity' : ui_quant, 'Amount': records[ui_prod]['Price'] * ui_quant},\n",
    "         112 : {'Product' : ui_prod, 'Quantity' : ui_quant, 'Amount': records[ui_prod]['Price'] * ui_quant},\n",
    "         113 : {'Product' : ui_prod, 'Quantity' : ui_quant, 'Amount': records[ui_prod]['Price'] * ui_quant},\n",
    "         114 : {'Product' : ui_prod, 'Quantity' : ui_quant, 'Amount': records[ui_prod]['Price'] * ui_quant},\n",
    "         115 : {'Product' : ui_prod, 'Quantity' : ui_quant, 'Amount': records[ui_prod]['Price'] * ui_quant},\n",
    "         116 : {'Product' : ui_prod, 'Quantity' : ui_quant, 'Amount': records[ui_prod]['Price'] * ui_quant},\n",
    "         117 : {'Product' : ui_prod, 'Quantity' : ui_quant, 'Amount': records[ui_prod]['Price'] * ui_quant},\n",
    "         118 : {'Product' : ui_prod, 'Quantity' : ui_quant, 'Amount': records[ui_prod]['Price'] * ui_quant},\n",
    "         119 : {'Product' : ui_prod, 'Quantity' : ui_quant, 'Amount': records[ui_prod]['Price'] * ui_quant},\n",
    "         120 : {'Product' : ui_prod, 'Quantity' : ui_quant, 'Amount': records[ui_prod]['Price'] * ui_quant},\n",
    "         121 : {'Product' : ui_prod, 'Quantity' : ui_quant, 'Amount': records[ui_prod]['Price'] * ui_quant},\n",
    "         122 : {'Product' : ui_prod, 'Quantity' : ui_quant, 'Amount': records[ui_prod]['Price'] * ui_quant},\n",
    "         123 : {'Product' : ui_prod, 'Quantity' : ui_quant, 'Amount': records[ui_prod]['Price'] * ui_quant},\n",
    "         124 : {'Product' : ui_prod, 'Quantity' : ui_quant, 'Amount': records[ui_prod]['Price'] * ui_quant},\n",
    "         125 : {'Product' : ui_prod, 'Quantity' : ui_quant, 'Amount': records[ui_prod]['Price'] * ui_quant},\n",
    "         126: {'Product' : ui_prod, 'Quantity' : ui_quant, 'Amount': records[ui_prod]['Price'] * ui_quant},\n",
    "        127 : {'Product' : ui_prod, 'Quantity' : ui_quant, 'Amount': records[ui_prod]['Price'] * ui_quant},\n",
    "        128 : {'Product' : ui_prod, 'Quantity' : ui_quant, 'Amount': records[ui_prod]['Price'] * ui_quant},\n",
    "        129 : {'Product' : ui_prod, 'Quantity' : ui_quant, 'Amount': records[ui_prod]['Price'] * ui_quant},\n",
    "        130 : {'Product' : ui_prod, 'Quantity' : ui_quant, 'Amount': records[ui_prod]['Price'] * ui_quant}}"
   ]
  },
  {
   "cell_type": "code",
   "execution_count": 18,
   "id": "7a08a95b",
   "metadata": {},
   "outputs": [],
   "source": [
    "sale = json.dumps(sales)"
   ]
  },
  {
   "cell_type": "code",
   "execution_count": 19,
   "id": "df456c67",
   "metadata": {},
   "outputs": [
    {
     "data": {
      "text/plain": [
       "{100: {'Product': '2', 'Quantity': 3, 'Amount': 201},\n",
       " 101: {'Product': '2', 'Quantity': 3, 'Amount': 201},\n",
       " 102: {'Product': '2', 'Quantity': 3, 'Amount': 201},\n",
       " 103: {'Product': '2', 'Quantity': 3, 'Amount': 201},\n",
       " 104: {'Product': '2', 'Quantity': 3, 'Amount': 201},\n",
       " 105: {'Product': '2', 'Quantity': 3, 'Amount': 201},\n",
       " 106: {'Product': '2', 'Quantity': 3, 'Amount': 201},\n",
       " 107: {'Product': '2', 'Quantity': 3, 'Amount': 201},\n",
       " 108: {'Product': '2', 'Quantity': 3, 'Amount': 201},\n",
       " 109: {'Product': '2', 'Quantity': 3, 'Amount': 201},\n",
       " 110: {'Product': '2', 'Quantity': 3, 'Amount': 201},\n",
       " 111: {'Product': '2', 'Quantity': 3, 'Amount': 201},\n",
       " 112: {'Product': '2', 'Quantity': 3, 'Amount': 201},\n",
       " 113: {'Product': '2', 'Quantity': 3, 'Amount': 201},\n",
       " 114: {'Product': '2', 'Quantity': 3, 'Amount': 201},\n",
       " 115: {'Product': '2', 'Quantity': 3, 'Amount': 201},\n",
       " 116: {'Product': '2', 'Quantity': 3, 'Amount': 201},\n",
       " 117: {'Product': '2', 'Quantity': 3, 'Amount': 201},\n",
       " 118: {'Product': '2', 'Quantity': 3, 'Amount': 201},\n",
       " 119: {'Product': '2', 'Quantity': 3, 'Amount': 201},\n",
       " 120: {'Product': '2', 'Quantity': 3, 'Amount': 201},\n",
       " 121: {'Product': '2', 'Quantity': 3, 'Amount': 201},\n",
       " 122: {'Product': '2', 'Quantity': 3, 'Amount': 201},\n",
       " 123: {'Product': '2', 'Quantity': 3, 'Amount': 201},\n",
       " 124: {'Product': '2', 'Quantity': 3, 'Amount': 201},\n",
       " 125: {'Product': '2', 'Quantity': 3, 'Amount': 201},\n",
       " 126: {'Product': '2', 'Quantity': 3, 'Amount': 201},\n",
       " 127: {'Product': '2', 'Quantity': 3, 'Amount': 201},\n",
       " 128: {'Product': '2', 'Quantity': 3, 'Amount': 201},\n",
       " 129: {'Product': '2', 'Quantity': 3, 'Amount': 201},\n",
       " 130: {'Product': '2', 'Quantity': 3, 'Amount': 201}}"
      ]
     },
     "execution_count": 19,
     "metadata": {},
     "output_type": "execute_result"
    }
   ],
   "source": [
    "sales"
   ]
  },
  {
   "cell_type": "code",
   "execution_count": null,
   "id": "a5cdac0a",
   "metadata": {},
   "outputs": [],
   "source": []
  }
 ],
 "metadata": {
  "kernelspec": {
   "display_name": "Python 3",
   "language": "python",
   "name": "python3"
  },
  "language_info": {
   "codemirror_mode": {
    "name": "ipython",
    "version": 3
   },
   "file_extension": ".py",
   "mimetype": "text/x-python",
   "name": "python",
   "nbconvert_exporter": "python",
   "pygments_lexer": "ipython3",
   "version": "3.8.8"
  }
 },
 "nbformat": 4,
 "nbformat_minor": 5
}
